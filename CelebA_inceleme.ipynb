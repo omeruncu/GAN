{
 "cells": [
  {
   "cell_type": "code",
   "execution_count": 1,
   "metadata": {},
   "outputs": [],
   "source": [
    "import shutil\n",
    "import os\n",
    "import matplotlib.pyplot as plt\n",
    "import pandas as pd\n",
    "from IPython.display import Image as ImageDisplay\n",
    "from sklearn.model_selection import train_test_split"
   ]
  },
  {
   "cell_type": "code",
   "execution_count": 8,
   "metadata": {},
   "outputs": [],
   "source": [
    "'''\n",
    "https://www.kaggle.com/jessicali9530/celeba-dataset\n",
    "Adresinden\n",
    "    - img_align_celebA klasörü\n",
    "    - list_attr_celeba.csv dosyası indirilir ve projedeki dataset klasörüne atılır.\n",
    "'''\n",
    "\n",
    "image_dir = os.path.abspath('dataset/celeba/images')\n",
    "attributes_file = os.path.abspath('dataset/celeba/list_attr_celeba.csv')\n",
    "output_dir = os.path.abspath('dataset/preprocessed_dataset_celeba')"
   ]
  },
  {
   "cell_type": "code",
   "execution_count": 9,
   "metadata": {},
   "outputs": [
    {
     "name": "stdout",
     "output_type": "stream",
     "text": [
      "     image_id  5_o_Clock_Shadow  Arched_Eyebrows  Attractive  Bags_Under_Eyes  \\\n",
      "0  000001.jpg                -1                1           1               -1   \n",
      "1  000002.jpg                -1               -1          -1                1   \n",
      "2  000003.jpg                -1               -1          -1               -1   \n",
      "3  000004.jpg                -1               -1           1               -1   \n",
      "4  000005.jpg                -1                1           1               -1   \n",
      "\n",
      "   Bald  Bangs  Big_Lips  Big_Nose  Black_Hair  ...  Sideburns  Smiling  \\\n",
      "0    -1     -1        -1        -1          -1  ...         -1        1   \n",
      "1    -1     -1        -1         1          -1  ...         -1        1   \n",
      "2    -1     -1         1        -1          -1  ...         -1       -1   \n",
      "3    -1     -1        -1        -1          -1  ...         -1       -1   \n",
      "4    -1     -1         1        -1          -1  ...         -1       -1   \n",
      "\n",
      "   Straight_Hair  Wavy_Hair  Wearing_Earrings  Wearing_Hat  Wearing_Lipstick  \\\n",
      "0              1         -1                 1           -1                 1   \n",
      "1             -1         -1                -1           -1                -1   \n",
      "2             -1          1                -1           -1                -1   \n",
      "3              1         -1                 1           -1                 1   \n",
      "4             -1         -1                -1           -1                 1   \n",
      "\n",
      "   Wearing_Necklace  Wearing_Necktie  Young  \n",
      "0                -1               -1      1  \n",
      "1                -1               -1      1  \n",
      "2                -1               -1      1  \n",
      "3                 1               -1      1  \n",
      "4                -1               -1      1  \n",
      "\n",
      "[5 rows x 41 columns]\n"
     ]
    }
   ],
   "source": [
    "# Özellik vektörünün olduğu csv dosyası pandas ile okunur\n",
    "data = pd.read_csv(attributes_file) \n",
    "print(data.head())"
   ]
  },
  {
   "cell_type": "code",
   "execution_count": 10,
   "metadata": {},
   "outputs": [],
   "source": [
    "# Siyah ve Sarı saç özelliği \"1\" olan Kadın ünlülerden 1000' er adet örnek seçilerek ilgili dataframe'lere atanır\n",
    "df_blackHair = data.loc[data['Black_Hair' ] == 1 & (data['Male'] == -1)].sample(n=1000)\n",
    "df_blond = data.loc[data['Blond_Hair'] == 1 & (data['Male'] == -1)].sample(n=1000)"
   ]
  },
  {
   "cell_type": "code",
   "execution_count": 11,
   "metadata": {},
   "outputs": [
    {
     "data": {
      "image/jpeg": "[encoded data removed]",
      "text/plain": [
       "<IPython.core.display.Image object>"
      ]
     },
     "execution_count": 11,
     "metadata": {},
     "output_type": "execute_result"
    }
   ],
   "source": [
    "# Siyah saçlı ilk imgeyi inceleyelim\n",
    "ImageDisplay(os.path.join(image_dir, df_blackHair.iloc[0]['image_id']))"
   ]
  },
  {
   "cell_type": "code",
   "execution_count": 12,
   "metadata": {},
   "outputs": [
    {
     "data": {
      "image/jpeg": "[encoded data removed]",
      "text/plain": [
       "<IPython.core.display.Image object>"
      ]
     },
     "execution_count": 12,
     "metadata": {},
     "output_type": "execute_result"
    }
   ],
   "source": [
    "# Sarı saçlı ilk imgeyi inceleyelim\n",
    "ImageDisplay(os.path.join(image_dir, df_blond.iloc[0]['image_id']))"
   ]
  },
  {
   "cell_type": "code",
   "execution_count": 13,
   "metadata": {},
   "outputs": [],
   "source": [
    "# Seçilen imgelerin isimlerine kopyalama esnasında\n",
    "# daha kolay ulaşmak için birer listeye kaydedelim\n",
    "\n",
    "domainA, domainB = [], []\n",
    "\n",
    "for index, row in df_blackHair.iterrows():\n",
    "    domainA.append(row['image_id'])\n",
    "\n",
    "for index, row in df_blond.iterrows():\n",
    "    domainB.append(row['image_id'])\n",
    "    "
   ]
  },
  {
   "cell_type": "code",
   "execution_count": 14,
   "metadata": {},
   "outputs": [],
   "source": [
    "#Train ve test verisini ilk seçtiğimiz 1000 imgeden bölerek oluşuruyoruz\n",
    "A_train, A_test = train_test_split(domainA, test_size=0.01, random_state=42)\n",
    "B_train, B_test = train_test_split(domainB, test_size=0.01, random_state=42)"
   ]
  },
  {
   "cell_type": "markdown",
   "metadata": {},
   "source": [
    "Train ve Test verilerinin oluşturulması"
   ]
  },
  {
   "cell_type": "code",
   "execution_count": 15,
   "metadata": {},
   "outputs": [],
   "source": [
    "#train klasörlerinin yolları belirlenir ve kayıt klasörlerini oluşturuyoruz.\n",
    "A_train_dir = os.path.join(output_dir, 'train/A')\n",
    "B_train_dir = os.path.join(output_dir, 'train/B')\n",
    "\n",
    "os.makedirs(A_train_dir, exist_ok=True)\n",
    "os.makedirs(B_train_dir, exist_ok=True)\n",
    "\n",
    "#orijinal lokasyondan yeni lokasyona kopyalıyoruz\n",
    "for imageA, imageB in zip(A_train, B_train):\n",
    "    shutil.copy(os.path.join(image_dir, imageA), os.path.join(A_train_dir, imageA))\n",
    "    shutil.copy(os.path.join(image_dir, imageB), os.path.join(B_train_dir, imageB))\n",
    "    \n",
    "#train klasörlerinin yolları belirlenir ve kayıt klasörlerini oluşturuyoruz.\n",
    "A_test_dir = os.path.join(output_dir, 'test/A')\n",
    "B_test_dir = os.path.join(output_dir, 'test/B')\n",
    "\n",
    "os.makedirs(A_test_dir, exist_ok=True)\n",
    "os.makedirs(B_test_dir, exist_ok=True)\n",
    "\n",
    "#orijinal lokasyondan yeni lokasyona kopyalıyoruz\n",
    "for imageA, imageB in zip(A_test, B_test):\n",
    "    shutil.copy(os.path.join(image_dir, imageA), os.path.join(A_test_dir, imageA))\n",
    "    shutil.copy(os.path.join(image_dir, imageB), os.path.join(B_test_dir, imageB))"
   ]
  },
  {
   "cell_type": "code",
   "execution_count": null,
   "metadata": {},
   "outputs": [],
   "source": []
  }
 ],
 "metadata": {
  "kernelspec": {
   "display_name": "Python 3 (ipykernel)",
   "language": "python",
   "name": "python3"
  },
  "language_info": {
   "codemirror_mode": {
    "name": "ipython",
    "version": 3
   },
   "file_extension": ".py",
   "mimetype": "text/x-python",
   "name": "python",
   "nbconvert_exporter": "python",
   "pygments_lexer": "ipython3",
   "version": "3.11.5"
  }
 },
 "nbformat": 4,
 "nbformat_minor": 2
}
